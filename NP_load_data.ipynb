{
 "cells": [
  {
   "cell_type": "code",
   "execution_count": 103,
   "metadata": {},
   "outputs": [],
   "source": [
    "#copy this into the Continuous AP folder after cluster cutting\n",
    "import os\n",
    "\n",
    "import numpy as np\n",
    "import pandas as pd\n",
    "import matplotlib.pyplot as plt\n",
    "import seaborn as sns"
   ]
  },
  {
   "cell_type": "code",
   "execution_count": 2,
   "metadata": {},
   "outputs": [
    {
     "data": {
      "text/html": [
       "<div>\n",
       "<style scoped>\n",
       "    .dataframe tbody tr th:only-of-type {\n",
       "        vertical-align: middle;\n",
       "    }\n",
       "\n",
       "    .dataframe tbody tr th {\n",
       "        vertical-align: top;\n",
       "    }\n",
       "\n",
       "    .dataframe thead th {\n",
       "        text-align: right;\n",
       "    }\n",
       "</style>\n",
       "<table border=\"1\" class=\"dataframe\">\n",
       "  <thead>\n",
       "    <tr style=\"text-align: right;\">\n",
       "      <th></th>\n",
       "      <th>id</th>\n",
       "      <th>Amplitude</th>\n",
       "      <th>ContamPct</th>\n",
       "      <th>KSLabel</th>\n",
       "      <th>amp</th>\n",
       "      <th>ch</th>\n",
       "      <th>depth</th>\n",
       "      <th>fr</th>\n",
       "      <th>group</th>\n",
       "      <th>n_spikes</th>\n",
       "      <th>sh</th>\n",
       "    </tr>\n",
       "  </thead>\n",
       "  <tbody>\n",
       "    <tr>\n",
       "      <th>0</th>\n",
       "      <td>0</td>\n",
       "      <td>301.0</td>\n",
       "      <td>101.9</td>\n",
       "      <td>mua</td>\n",
       "      <td>19.176311</td>\n",
       "      <td>1</td>\n",
       "      <td>20.0</td>\n",
       "      <td>10.543538</td>\n",
       "      <td>noise</td>\n",
       "      <td>35886</td>\n",
       "      <td>0</td>\n",
       "    </tr>\n",
       "    <tr>\n",
       "      <th>1</th>\n",
       "      <td>1</td>\n",
       "      <td>190.6</td>\n",
       "      <td>106.5</td>\n",
       "      <td>mua</td>\n",
       "      <td>14.127209</td>\n",
       "      <td>15</td>\n",
       "      <td>160.0</td>\n",
       "      <td>6.923255</td>\n",
       "      <td>noise</td>\n",
       "      <td>23564</td>\n",
       "      <td>0</td>\n",
       "    </tr>\n",
       "    <tr>\n",
       "      <th>2</th>\n",
       "      <td>2</td>\n",
       "      <td>227.2</td>\n",
       "      <td>99.7</td>\n",
       "      <td>mua</td>\n",
       "      <td>15.683676</td>\n",
       "      <td>15</td>\n",
       "      <td>160.0</td>\n",
       "      <td>9.271944</td>\n",
       "      <td>noise</td>\n",
       "      <td>31558</td>\n",
       "      <td>0</td>\n",
       "    </tr>\n",
       "    <tr>\n",
       "      <th>3</th>\n",
       "      <td>3</td>\n",
       "      <td>318.3</td>\n",
       "      <td>inf</td>\n",
       "      <td>mua</td>\n",
       "      <td>14.507984</td>\n",
       "      <td>15</td>\n",
       "      <td>160.0</td>\n",
       "      <td>0.012634</td>\n",
       "      <td>mua</td>\n",
       "      <td>43</td>\n",
       "      <td>0</td>\n",
       "    </tr>\n",
       "    <tr>\n",
       "      <th>4</th>\n",
       "      <td>4</td>\n",
       "      <td>170.4</td>\n",
       "      <td>87.9</td>\n",
       "      <td>mua</td>\n",
       "      <td>12.783755</td>\n",
       "      <td>35</td>\n",
       "      <td>360.0</td>\n",
       "      <td>9.511396</td>\n",
       "      <td>noise</td>\n",
       "      <td>32373</td>\n",
       "      <td>0</td>\n",
       "    </tr>\n",
       "  </tbody>\n",
       "</table>\n",
       "</div>"
      ],
      "text/plain": [
       "   id  Amplitude  ContamPct KSLabel        amp  ch  depth         fr  group  \\\n",
       "0   0      301.0      101.9     mua  19.176311   1   20.0  10.543538  noise   \n",
       "1   1      190.6      106.5     mua  14.127209  15  160.0   6.923255  noise   \n",
       "2   2      227.2       99.7     mua  15.683676  15  160.0   9.271944  noise   \n",
       "3   3      318.3        inf     mua  14.507984  15  160.0   0.012634    mua   \n",
       "4   4      170.4       87.9     mua  12.783755  35  360.0   9.511396  noise   \n",
       "\n",
       "   n_spikes  sh  \n",
       "0     35886   0  \n",
       "1     23564   0  \n",
       "2     31558   0  \n",
       "3        43   0  \n",
       "4     32373   0  "
      ]
     },
     "execution_count": 2,
     "metadata": {},
     "output_type": "execute_result"
    }
   ],
   "source": [
    "sampRate=30000 #figure out how to get around hard coding this\n",
    "spike_times=np.load('spike_times.npy')\n",
    "st=spike_times/sampRate\n",
    "spike_templates=np.load('spike_templates.npy')\n",
    "spike_clusters=np.load('spike_clusters.npy')\n",
    "cids=pd.read_table('cluster_info.tsv')\n",
    "cids.head()"
   ]
  },
  {
   "cell_type": "code",
   "execution_count": 3,
   "metadata": {},
   "outputs": [
    {
     "data": {
      "text/html": [
       "<div>\n",
       "<style scoped>\n",
       "    .dataframe tbody tr th:only-of-type {\n",
       "        vertical-align: middle;\n",
       "    }\n",
       "\n",
       "    .dataframe tbody tr th {\n",
       "        vertical-align: top;\n",
       "    }\n",
       "\n",
       "    .dataframe thead th {\n",
       "        text-align: right;\n",
       "    }\n",
       "</style>\n",
       "<table border=\"1\" class=\"dataframe\">\n",
       "  <thead>\n",
       "    <tr style=\"text-align: right;\">\n",
       "      <th></th>\n",
       "      <th>id</th>\n",
       "      <th>Amplitude</th>\n",
       "      <th>ContamPct</th>\n",
       "      <th>KSLabel</th>\n",
       "      <th>amp</th>\n",
       "      <th>ch</th>\n",
       "      <th>depth</th>\n",
       "      <th>fr</th>\n",
       "      <th>group</th>\n",
       "      <th>n_spikes</th>\n",
       "      <th>sh</th>\n",
       "    </tr>\n",
       "  </thead>\n",
       "  <tbody>\n",
       "    <tr>\n",
       "      <th>0</th>\n",
       "      <td>13</td>\n",
       "      <td>351.9</td>\n",
       "      <td>0.9</td>\n",
       "      <td>good</td>\n",
       "      <td>21.665257</td>\n",
       "      <td>95</td>\n",
       "      <td>960.0</td>\n",
       "      <td>8.381417</td>\n",
       "      <td>good</td>\n",
       "      <td>28527</td>\n",
       "      <td>0</td>\n",
       "    </tr>\n",
       "    <tr>\n",
       "      <th>1</th>\n",
       "      <td>18</td>\n",
       "      <td>252.8</td>\n",
       "      <td>9.3</td>\n",
       "      <td>good</td>\n",
       "      <td>18.677330</td>\n",
       "      <td>123</td>\n",
       "      <td>1240.0</td>\n",
       "      <td>34.779339</td>\n",
       "      <td>good</td>\n",
       "      <td>118375</td>\n",
       "      <td>0</td>\n",
       "    </tr>\n",
       "    <tr>\n",
       "      <th>2</th>\n",
       "      <td>20</td>\n",
       "      <td>348.9</td>\n",
       "      <td>8.9</td>\n",
       "      <td>good</td>\n",
       "      <td>26.365196</td>\n",
       "      <td>133</td>\n",
       "      <td>1340.0</td>\n",
       "      <td>10.151307</td>\n",
       "      <td>good</td>\n",
       "      <td>34551</td>\n",
       "      <td>0</td>\n",
       "    </tr>\n",
       "    <tr>\n",
       "      <th>3</th>\n",
       "      <td>21</td>\n",
       "      <td>255.6</td>\n",
       "      <td>12.2</td>\n",
       "      <td>mua</td>\n",
       "      <td>19.073395</td>\n",
       "      <td>133</td>\n",
       "      <td>1340.0</td>\n",
       "      <td>18.215119</td>\n",
       "      <td>good</td>\n",
       "      <td>61997</td>\n",
       "      <td>0</td>\n",
       "    </tr>\n",
       "    <tr>\n",
       "      <th>4</th>\n",
       "      <td>25</td>\n",
       "      <td>208.7</td>\n",
       "      <td>152.3</td>\n",
       "      <td>mua</td>\n",
       "      <td>12.679985</td>\n",
       "      <td>156</td>\n",
       "      <td>1580.0</td>\n",
       "      <td>1.620930</td>\n",
       "      <td>good</td>\n",
       "      <td>5517</td>\n",
       "      <td>0</td>\n",
       "    </tr>\n",
       "  </tbody>\n",
       "</table>\n",
       "</div>"
      ],
      "text/plain": [
       "   id  Amplitude  ContamPct KSLabel        amp   ch   depth         fr group  \\\n",
       "0  13      351.9        0.9    good  21.665257   95   960.0   8.381417  good   \n",
       "1  18      252.8        9.3    good  18.677330  123  1240.0  34.779339  good   \n",
       "2  20      348.9        8.9    good  26.365196  133  1340.0  10.151307  good   \n",
       "3  21      255.6       12.2     mua  19.073395  133  1340.0  18.215119  good   \n",
       "4  25      208.7      152.3     mua  12.679985  156  1580.0   1.620930  good   \n",
       "\n",
       "   n_spikes  sh  \n",
       "0     28527   0  \n",
       "1    118375   0  \n",
       "2     34551   0  \n",
       "3     61997   0  \n",
       "4      5517   0  "
      ]
     },
     "execution_count": 3,
     "metadata": {},
     "output_type": "execute_result"
    }
   ],
   "source": [
    "cids_good=cids.query(\"group=='good'\")\n",
    "cids_good=cids_good.reset_index(drop=True)\n",
    "np.shape(cids_good)\n",
    "good_units=np.array(cids_good['id'])\n",
    "cids_good.head()"
   ]
  },
  {
   "cell_type": "code",
   "execution_count": 4,
   "metadata": {},
   "outputs": [
    {
     "data": {
      "image/png": "[encoded data removed]",
      "text/plain": [
       "<Figure size 432x288 with 1 Axes>"
      ]
     },
     "metadata": {
      "needs_background": "light"
     },
     "output_type": "display_data"
    }
   ],
   "source": [
    "#number of cells along the length of the probe\n",
    "ax=sns.distplot(cids_good['depth'], bins=20)\n",
    "plt.savefig('numcells_alongprobe.svg')"
   ]
  },
  {
   "cell_type": "code",
   "execution_count": 104,
   "metadata": {},
   "outputs": [
    {
     "data": {
      "text/html": [
       "<div>\n",
       "<style scoped>\n",
       "    .dataframe tbody tr th:only-of-type {\n",
       "        vertical-align: middle;\n",
       "    }\n",
       "\n",
       "    .dataframe tbody tr th {\n",
       "        vertical-align: top;\n",
       "    }\n",
       "\n",
       "    .dataframe thead th {\n",
       "        text-align: right;\n",
       "    }\n",
       "</style>\n",
       "<table border=\"1\" class=\"dataframe\">\n",
       "  <thead>\n",
       "    <tr style=\"text-align: right;\">\n",
       "      <th></th>\n",
       "      <th>upperBorder</th>\n",
       "      <th>lowerBorder</th>\n",
       "      <th>acronym</th>\n",
       "      <th>name</th>\n",
       "      <th>avIndex</th>\n",
       "    </tr>\n",
       "  </thead>\n",
       "  <tbody>\n",
       "    <tr>\n",
       "      <th>0</th>\n",
       "      <td>0</td>\n",
       "      <td>210</td>\n",
       "      <td>VISal2/3</td>\n",
       "      <td>Anterolateral visual area layer 2/3</td>\n",
       "      <td>167</td>\n",
       "    </tr>\n",
       "    <tr>\n",
       "      <th>1</th>\n",
       "      <td>210</td>\n",
       "      <td>350</td>\n",
       "      <td>AUDpo2/3</td>\n",
       "      <td>Posterior auditory area layer 2/3</td>\n",
       "      <td>146</td>\n",
       "    </tr>\n",
       "    <tr>\n",
       "      <th>2</th>\n",
       "      <td>350</td>\n",
       "      <td>440</td>\n",
       "      <td>AUDpo4</td>\n",
       "      <td>Posterior auditory area layer 4</td>\n",
       "      <td>147</td>\n",
       "    </tr>\n",
       "    <tr>\n",
       "      <th>3</th>\n",
       "      <td>440</td>\n",
       "      <td>790</td>\n",
       "      <td>AUDpo5</td>\n",
       "      <td>Posterior auditory area layer 5</td>\n",
       "      <td>148</td>\n",
       "    </tr>\n",
       "    <tr>\n",
       "      <th>4</th>\n",
       "      <td>790</td>\n",
       "      <td>980</td>\n",
       "      <td>AUDpo6a</td>\n",
       "      <td>Posterior auditory area layer 6a</td>\n",
       "      <td>149</td>\n",
       "    </tr>\n",
       "  </tbody>\n",
       "</table>\n",
       "</div>"
      ],
      "text/plain": [
       "   upperBorder  lowerBorder   acronym                                 name  \\\n",
       "0            0          210  VISal2/3  Anterolateral visual area layer 2/3   \n",
       "1          210          350  AUDpo2/3    Posterior auditory area layer 2/3   \n",
       "2          350          440    AUDpo4      Posterior auditory area layer 4   \n",
       "3          440          790    AUDpo5      Posterior auditory area layer 5   \n",
       "4          790          980   AUDpo6a     Posterior auditory area layer 6a   \n",
       "\n",
       "   avIndex  \n",
       "0      167  \n",
       "1      146  \n",
       "2      147  \n",
       "3      148  \n",
       "4      149  "
      ]
     },
     "execution_count": 104,
     "metadata": {},
     "output_type": "execute_result"
    }
   ],
   "source": [
    "histology=pd.read_csv('NP1_electrode_locations.csv')\n",
    "histology.head()"
   ]
  },
  {
   "cell_type": "code",
   "execution_count": 96,
   "metadata": {},
   "outputs": [
    {
     "data": {
      "text/html": [
       "<div>\n",
       "<style scoped>\n",
       "    .dataframe tbody tr th:only-of-type {\n",
       "        vertical-align: middle;\n",
       "    }\n",
       "\n",
       "    .dataframe tbody tr th {\n",
       "        vertical-align: top;\n",
       "    }\n",
       "\n",
       "    .dataframe thead th {\n",
       "        text-align: right;\n",
       "    }\n",
       "</style>\n",
       "<table border=\"1\" class=\"dataframe\">\n",
       "  <thead>\n",
       "    <tr style=\"text-align: right;\">\n",
       "      <th></th>\n",
       "      <th>BrainArea</th>\n",
       "      <th>id</th>\n",
       "      <th>Amplitude</th>\n",
       "      <th>ContamPct</th>\n",
       "      <th>KSLabel</th>\n",
       "      <th>amp</th>\n",
       "      <th>ch</th>\n",
       "      <th>depth</th>\n",
       "      <th>fr</th>\n",
       "      <th>group</th>\n",
       "      <th>n_spikes</th>\n",
       "      <th>sh</th>\n",
       "    </tr>\n",
       "  </thead>\n",
       "  <tbody>\n",
       "    <tr>\n",
       "      <th>0</th>\n",
       "      <td>AUDpo6a</td>\n",
       "      <td>13</td>\n",
       "      <td>351.9</td>\n",
       "      <td>0.9</td>\n",
       "      <td>good</td>\n",
       "      <td>21.665257</td>\n",
       "      <td>95</td>\n",
       "      <td>960.0</td>\n",
       "      <td>8.381417</td>\n",
       "      <td>good</td>\n",
       "      <td>28527</td>\n",
       "      <td>0</td>\n",
       "    </tr>\n",
       "    <tr>\n",
       "      <th>1</th>\n",
       "      <td>alv</td>\n",
       "      <td>18</td>\n",
       "      <td>252.8</td>\n",
       "      <td>9.3</td>\n",
       "      <td>good</td>\n",
       "      <td>18.677330</td>\n",
       "      <td>123</td>\n",
       "      <td>1240.0</td>\n",
       "      <td>34.779339</td>\n",
       "      <td>good</td>\n",
       "      <td>118375</td>\n",
       "      <td>0</td>\n",
       "    </tr>\n",
       "    <tr>\n",
       "      <th>2</th>\n",
       "      <td>CA1</td>\n",
       "      <td>20</td>\n",
       "      <td>348.9</td>\n",
       "      <td>8.9</td>\n",
       "      <td>good</td>\n",
       "      <td>26.365196</td>\n",
       "      <td>133</td>\n",
       "      <td>1340.0</td>\n",
       "      <td>10.151307</td>\n",
       "      <td>good</td>\n",
       "      <td>34551</td>\n",
       "      <td>0</td>\n",
       "    </tr>\n",
       "    <tr>\n",
       "      <th>3</th>\n",
       "      <td>CA1</td>\n",
       "      <td>21</td>\n",
       "      <td>255.6</td>\n",
       "      <td>12.2</td>\n",
       "      <td>mua</td>\n",
       "      <td>19.073395</td>\n",
       "      <td>133</td>\n",
       "      <td>1340.0</td>\n",
       "      <td>18.215119</td>\n",
       "      <td>good</td>\n",
       "      <td>61997</td>\n",
       "      <td>0</td>\n",
       "    </tr>\n",
       "    <tr>\n",
       "      <th>4</th>\n",
       "      <td>CA1</td>\n",
       "      <td>25</td>\n",
       "      <td>208.7</td>\n",
       "      <td>152.3</td>\n",
       "      <td>mua</td>\n",
       "      <td>12.679985</td>\n",
       "      <td>156</td>\n",
       "      <td>1580.0</td>\n",
       "      <td>1.620930</td>\n",
       "      <td>good</td>\n",
       "      <td>5517</td>\n",
       "      <td>0</td>\n",
       "    </tr>\n",
       "  </tbody>\n",
       "</table>\n",
       "</div>"
      ],
      "text/plain": [
       "  BrainArea  id  Amplitude  ContamPct KSLabel        amp   ch   depth  \\\n",
       "0   AUDpo6a  13      351.9        0.9    good  21.665257   95   960.0   \n",
       "1       alv  18      252.8        9.3    good  18.677330  123  1240.0   \n",
       "2       CA1  20      348.9        8.9    good  26.365196  133  1340.0   \n",
       "3       CA1  21      255.6       12.2     mua  19.073395  133  1340.0   \n",
       "4       CA1  25      208.7      152.3     mua  12.679985  156  1580.0   \n",
       "\n",
       "          fr group  n_spikes  sh  \n",
       "0   8.381417  good     28527   0  \n",
       "1  34.779339  good    118375   0  \n",
       "2  10.151307  good     34551   0  \n",
       "3  18.215119  good     61997   0  \n",
       "4   1.620930  good      5517   0  "
      ]
     },
     "execution_count": 96,
     "metadata": {},
     "output_type": "execute_result"
    }
   ],
   "source": [
    "import warnings\n",
    "warnings.filterwarnings(\"ignore\")        \n",
    "\n",
    "s=pd.Series(cids_good['depth'])\n",
    "top=np.array(histology['upperBorder'])\n",
    "bottom=np.array(histology['lowerBorder'])\n",
    "name=histology['acronym']\n",
    "\n",
    "brain_area=[None]*len(s)\n",
    "for i in range(len(top)-1):\n",
    "    isbetween=s.between(top[i],bottom[i], inclusive=True)\n",
    "    this_ind=s[isbetween].index.values\n",
    "    \n",
    "    if len(this_ind)>1:\n",
    "        for j in range(len(this_ind)-1):\n",
    "            brain_area[this_ind[j]]=name[i]\n",
    "    elif len(this_ind)==0:\n",
    "        this_ind=this_ind\n",
    "    else:\n",
    "        this_ind=np.asscalar(this_ind)\n",
    "        brain_area[this_ind]=name[i]\n",
    "\n",
    "cids_good.insert(0,'BrainArea', brain_area)\n",
    "cids_good.head()"
   ]
  },
  {
   "cell_type": "code",
   "execution_count": 108,
   "metadata": {},
   "outputs": [
    {
     "data": {
      "image/png": "[encoded data removed]",
      "text/plain": [
       "<Figure size 432x288 with 1 Axes>"
      ]
     },
     "metadata": {
      "needs_background": "light"
     },
     "output_type": "display_data"
    }
   ],
   "source": [
    "ax=sns.distplot(cids_good['depth'],bins=20)\n",
    "plt.savefig('numcells_alongprobe.svg')"
   ]
  },
  {
   "cell_type": "code",
   "execution_count": 109,
   "metadata": {},
   "outputs": [
    {
     "name": "stdout",
     "output_type": "stream",
     "text": [
      "Y:\\froemkelabspace\\Macayla\\Data\\NP_Recordings\\2020-08-28_12-15-37_WT\n"
     ]
    }
   ],
   "source": [
    "#load in events\n",
    "cwd=os.getcwd()\n",
    "from os.path import dirname as up\n",
    "\n",
    "abs_path = up(up(up(cwd)))\n",
    "print(abs_path)"
   ]
  },
  {
   "cell_type": "code",
   "execution_count": 110,
   "metadata": {},
   "outputs": [
    {
     "name": "stdout",
     "output_type": "stream",
     "text": [
      "281116.4266666667\n"
     ]
    }
   ],
   "source": [
    "events=np.load((os.path.join(abs_path,r'events\\Neuropix-PXI-slot2-probe1\\TTL_1\\event_timestamps.npy')))\n",
    "events=events/(sampRate/100)\n",
    "print(events[-1])"
   ]
  },
  {
   "cell_type": "code",
   "execution_count": 111,
   "metadata": {},
   "outputs": [],
   "source": [
    "#make a dataframe out of spiketimes and cluster ids?\n",
    "st = np.array(st).flatten()\n",
    "spikes=pd.DataFrame()\n",
    "spikes['Spike Times']=st.tolist()\n",
    "spikes['Cluster ID']=spike_clusters.tolist()"
   ]
  },
  {
   "cell_type": "code",
   "execution_count": 112,
   "metadata": {},
   "outputs": [
    {
     "data": {
      "text/html": [
       "<div>\n",
       "<style scoped>\n",
       "    .dataframe tbody tr th:only-of-type {\n",
       "        vertical-align: middle;\n",
       "    }\n",
       "\n",
       "    .dataframe tbody tr th {\n",
       "        vertical-align: top;\n",
       "    }\n",
       "\n",
       "    .dataframe thead th {\n",
       "        text-align: right;\n",
       "    }\n",
       "</style>\n",
       "<table border=\"1\" class=\"dataframe\">\n",
       "  <thead>\n",
       "    <tr style=\"text-align: right;\">\n",
       "      <th></th>\n",
       "      <th>Spike Times</th>\n",
       "      <th>Cluster ID</th>\n",
       "    </tr>\n",
       "  </thead>\n",
       "  <tbody>\n",
       "    <tr>\n",
       "      <th>582652</th>\n",
       "      <td>619.597167</td>\n",
       "      <td>13</td>\n",
       "    </tr>\n",
       "    <tr>\n",
       "      <th>1190831</th>\n",
       "      <td>1408.743667</td>\n",
       "      <td>13</td>\n",
       "    </tr>\n",
       "    <tr>\n",
       "      <th>480210</th>\n",
       "      <td>499.524100</td>\n",
       "      <td>13</td>\n",
       "    </tr>\n",
       "    <tr>\n",
       "      <th>1377917</th>\n",
       "      <td>1697.611933</td>\n",
       "      <td>13</td>\n",
       "    </tr>\n",
       "    <tr>\n",
       "      <th>1566803</th>\n",
       "      <td>2016.441067</td>\n",
       "      <td>13</td>\n",
       "    </tr>\n",
       "  </tbody>\n",
       "</table>\n",
       "</div>"
      ],
      "text/plain": [
       "         Spike Times  Cluster ID\n",
       "582652    619.597167          13\n",
       "1190831  1408.743667          13\n",
       "480210    499.524100          13\n",
       "1377917  1697.611933          13\n",
       "1566803  2016.441067          13"
      ]
     },
     "execution_count": 112,
     "metadata": {},
     "output_type": "execute_result"
    }
   ],
   "source": [
    "good_spikes=spikes.loc[spikes['Cluster ID'].isin(good_units)]\n",
    "good_spikes=good_spikes.sort_values(by=['Cluster ID'])\n",
    "good_spikes.head()"
   ]
  },
  {
   "cell_type": "code",
   "execution_count": 113,
   "metadata": {},
   "outputs": [
    {
     "data": {
      "text/plain": [
       "3403.5957333333336"
      ]
     },
     "execution_count": 113,
     "metadata": {},
     "output_type": "execute_result"
    }
   ],
   "source": [
    "max(good_spikes['Spike Times'])"
   ]
  },
  {
   "cell_type": "code",
   "execution_count": 114,
   "metadata": {},
   "outputs": [],
   "source": [
    "import elephant.conversion as conv\n",
    "import neo as n\n",
    "import quantities as pq\n",
    "    \n",
    "num_cells=np.unique(good_spikes['Cluster ID'])\n",
    "spike_matrix=[]\n",
    "\n",
    "import warnings\n",
    "warnings.filterwarnings(\"ignore\")\n",
    "\n",
    "for i in range(len(num_cells)):\n",
    "    this_cell_ind=good_spikes['Cluster ID']==num_cells[i]\n",
    "    this_cell=good_spikes[this_cell_ind]\n",
    "    this_cell=this_cell.sort_values('Spike Times')\n",
    "    spike_times=this_cell['Spike Times']\n",
    "    a = n.SpikeTrain([spike_times] * pq.s,\n",
    "                 t_stop=round(max(good_spikes['Spike Times'])) * pq.s)\n",
    "    x = conv.BinnedSpikeTrain(a, n_bins=round(max(good_spikes['Spike Times']))*100, bin_size=.01 * pq.s,\n",
    "                          t_start=0 * pq.s)\n",
    "    x=(x.to_array())\n",
    "    x=x.flatten()\n",
    "    spike_matrix.append(x)\n",
    "\n",
    "spike_matrix=np.array(spike_matrix)\n",
    "#print(spike_matrix[-5:-1,0:99])"
   ]
  },
  {
   "cell_type": "code",
   "execution_count": 117,
   "metadata": {},
   "outputs": [
    {
     "data": {
      "image/png": "[encoded data removed]",
      "text/plain": [
       "<Figure size 432x288 with 2 Axes>"
      ]
     },
     "metadata": {
      "needs_background": "light"
     },
     "output_type": "display_data"
    }
   ],
   "source": [
    "#heatmap of all spikes from all neurons\n",
    "ax=sns.heatmap(spike_matrix[:,1:10000])"
   ]
  },
  {
   "cell_type": "code",
   "execution_count": 118,
   "metadata": {},
   "outputs": [
    {
     "data": {
      "image/png": "[encoded data removed]",
      "text/plain": [
       "<Figure size 432x288 with 2 Axes>"
      ]
     },
     "metadata": {
      "needs_background": "light"
     },
     "output_type": "display_data"
    }
   ],
   "source": [
    "#normalized heatmap, all time bins\n",
    "from scipy import stats\n",
    "\n",
    "spike_matrix_norm=stats.zscore(spike_matrix,axis=1)\n",
    "#print(spike_matrix_norm[-5:-1,0:99])\n",
    "ax2=sns.heatmap(spike_matrix_norm[:,1:10000], vmin=-2, vmax=4)"
   ]
  },
  {
   "cell_type": "code",
   "execution_count": null,
   "metadata": {},
   "outputs": [],
   "source": []
  },
  {
   "cell_type": "code",
   "execution_count": 119,
   "metadata": {},
   "outputs": [
    {
     "data": {
      "text/plain": [
       "(1009,)"
      ]
     },
     "execution_count": 119,
     "metadata": {},
     "output_type": "execute_result"
    }
   ],
   "source": [
    "#baseline is 0 through events[0]\n",
    "#switches between stim are ~120 seconds apart, pure tones \n",
    "delt_events=np.round(np.diff(events),2)\n",
    "\n",
    "#print(event_ts[0:50])\n",
    "np.shape(delt_events)"
   ]
  },
  {
   "cell_type": "code",
   "execution_count": 120,
   "metadata": {},
   "outputs": [
    {
     "name": "stdout",
     "output_type": "stream",
     "text": [
      "[279 519 799]\n"
     ]
    }
   ],
   "source": [
    "stim_break=delt_events>2000\n",
    "break_inds=np.where(stim_break)[0] #in my case there should be 3 unless the notes specify otherwise\n",
    "print(break_inds)"
   ]
  },
  {
   "cell_type": "code",
   "execution_count": 121,
   "metadata": {},
   "outputs": [],
   "source": [
    "#pure tones- 1st and 3rd- this might not be the best way to show this? look more at micheles paper\n",
    "pt1=events[0:break_inds[0]-1];pt1_start=np.round(pt1[::2]); pt1_start=pt1_start.astype(int)\n",
    "pt1_end=np.round(pt1[1::2]); pt1_end=pt1_end.astype(int)\n",
    "pt2=events[break_inds[1]-1:break_inds[2]-1]; pt2_start=np.round(pt2[::2]); pt2_start=pt2_start.astype(int)\n",
    "pt2_end=np.round(pt2[1::2]);pt2_end=pt2_end.astype(int)\n",
    "\n",
    "#pt_start=np.append(pt1_start,pt2_start)\n",
    "#pt_end=np.append(pt1_end,pt2_end)\n",
    "\n",
    "pt_start=pt1_start\n",
    "pt_end=pt1_end\n",
    "\n",
    "#need to look at tucker davis to see which tones were on when\n",
    "pt_spikes_in=[]\n",
    "pt_spikes_out_mean=[]\n",
    "\n",
    "for i in range(len(pt_start)-1):\n",
    "    these_spikes_in=spike_matrix_norm[:,pt_start[i]:pt_end[i]]\n",
    "    pt_spikes_in.append(these_spikes_in)\n",
    "    these_spikes_out_mean=np.mean(spike_matrix_norm[:,pt_end[i]:pt_start[i+1]],axis=1) #this doesn't work because of the long gap in the middle\n",
    "    pt_spikes_out_mean.append(these_spikes_out_mean)"
   ]
  },
  {
   "cell_type": "code",
   "execution_count": null,
   "metadata": {},
   "outputs": [],
   "source": [
    "pt_spikes_in_mean=np.mean(pt_spikes_in,axis=2)\n",
    "\n",
    "np.shape(pt_spikes_out_mean)"
   ]
  },
  {
   "cell_type": "code",
   "execution_count": null,
   "metadata": {},
   "outputs": [],
   "source": []
  },
  {
   "cell_type": "code",
   "execution_count": null,
   "metadata": {},
   "outputs": [],
   "source": [
    "import matplotlib.pyplot as plt\n",
    "\n",
    "fig, ax = plt.subplots()\n",
    "for a in [pt_spikes_in_mean, pt_spikes_out_mean]:\n",
    "    sns.distplot(a)\n",
    "ax.legend(labels=['on','off'])\n"
   ]
  },
  {
   "cell_type": "code",
   "execution_count": null,
   "metadata": {},
   "outputs": [],
   "source": [
    "ax=sns.boxplot([pt_spikes_in_mean, pt_spikes_out_mean])"
   ]
  },
  {
   "cell_type": "code",
   "execution_count": 122,
   "metadata": {},
   "outputs": [
    {
     "ename": "TypeError",
     "evalue": "'Series' object is not callable",
     "output_type": "error",
     "traceback": [
      "\u001b[1;31m---------------------------------------------------------------------------\u001b[0m",
      "\u001b[1;31mTypeError\u001b[0m                                 Traceback (most recent call last)",
      "\u001b[1;32m<ipython-input-122-7919f87d4e48>\u001b[0m in \u001b[0;36m<module>\u001b[1;34m\u001b[0m\n\u001b[0;32m      4\u001b[0m \u001b[0mplot\u001b[0m\u001b[1;33m.\u001b[0m\u001b[0mtitle\u001b[0m\u001b[1;33m(\u001b[0m\u001b[1;34m'Spike raster plot'\u001b[0m\u001b[1;33m)\u001b[0m\u001b[1;33m\u001b[0m\u001b[1;33m\u001b[0m\u001b[0m\n\u001b[0;32m      5\u001b[0m \u001b[0mplot\u001b[0m\u001b[1;33m.\u001b[0m\u001b[0mxlabel\u001b[0m\u001b[1;33m(\u001b[0m\u001b[1;34m'Activity'\u001b[0m\u001b[1;33m)\u001b[0m\u001b[1;33m\u001b[0m\u001b[1;33m\u001b[0m\u001b[0m\n\u001b[1;32m----> 6\u001b[1;33m \u001b[0mplot\u001b[0m\u001b[1;33m.\u001b[0m\u001b[0mylabel\u001b[0m\u001b[1;33m(\u001b[0m\u001b[1;34m'Neuron'\u001b[0m\u001b[1;33m)\u001b[0m\u001b[1;33m\u001b[0m\u001b[1;33m\u001b[0m\u001b[0m\n\u001b[0m\u001b[0;32m      7\u001b[0m \u001b[0mplot\u001b[0m\u001b[1;33m.\u001b[0m\u001b[0mshow\u001b[0m\u001b[1;33m(\u001b[0m\u001b[1;33m)\u001b[0m\u001b[1;33m\u001b[0m\u001b[1;33m\u001b[0m\u001b[0m\n",
      "\u001b[1;31mTypeError\u001b[0m: 'Series' object is not callable"
     ]
    },
    {
     "data": {
      "image/png": "[encoded data removed]",
      "text/plain": [
       "<Figure size 432x288 with 1 Axes>"
      ]
     },
     "metadata": {
      "needs_background": "light"
     },
     "output_type": "display_data"
    }
   ],
   "source": [
    "import matplotlib.pyplot as plot\n",
    "\n",
    "plot.eventplot(spike_matrix_norm)     \n",
    "plot.title('Spike raster plot')\n",
    "plot.xlabel('Activity')\n",
    "plot.ylabel('Neuron')\n",
    "plot.show()"
   ]
  },
  {
   "cell_type": "code",
   "execution_count": null,
   "metadata": {},
   "outputs": [],
   "source": []
  }
 ],
 "metadata": {
  "kernelspec": {
   "display_name": "Python 3",
   "language": "python",
   "name": "python3"
  },
  "language_info": {
   "codemirror_mode": {
    "name": "ipython",
    "version": 3
   },
   "file_extension": ".py",
   "mimetype": "text/x-python",
   "name": "python",
   "nbconvert_exporter": "python",
   "pygments_lexer": "ipython3",
   "version": "3.8.3"
  }
 },
 "nbformat": 4,
 "nbformat_minor": 4
}
